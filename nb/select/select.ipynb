{
 "cells": [
  {
   "cell_type": "code",
   "execution_count": 71,
   "metadata": {},
   "outputs": [],
   "source": [
    "# This module helps to select stocks to look at\n",
    "# It writes raw stock data to disk\n",
    "\n",
    "import sys\n",
    "sys.path.append('..')\n",
    "\n",
    "import os\n",
    "from os.path import exists\n",
    "\n",
    "import time\n",
    "from glob import glob\n",
    "import json\n",
    "\n",
    "from etl import download_data, delete_data_dir\n",
    "\n",
    "import yfinance as yf # type: ignore\n",
    "import yahooquery as yq # type: ignore\n",
    "from pandas import DataFrame\n"
   ]
  },
  {
   "cell_type": "code",
   "execution_count": 50,
   "metadata": {},
   "outputs": [],
   "source": [
    "type Prices = list[list[str | int]]\n",
    "\n",
    "ranges = [\"0_50\", \"50_100\", \"100_150\", \"150_200\", \"200_10000\"]\n",
    "\n",
    "def split_by_range(price_dict: dict[str, Prices], price_list: Prices):\n",
    "    for range in ranges:\n",
    "        start, end = range.split(\"_\")\n",
    "        price_dict[range] = [data for data in price_list if data[1] > float(start) and data[1] < float(end)]\n",
    "\n",
    "\n",
    "large: dict[str, Prices] = {}\n",
    "mid: dict[str, Prices] = {}\n",
    "\n",
    "for match in glob(f'../prices/*cap*'):\n",
    "    with open(match, \"r\") as f:\n",
    "        if \"large\" in match:\n",
    "            split_by_range(large, json.load(f))\n",
    "        else:\n",
    "            split_by_range(mid, json.load(f))"
   ]
  },
  {
   "cell_type": "code",
   "execution_count": 51,
   "metadata": {},
   "outputs": [
    {
     "name": "stdout",
     "output_type": "stream",
     "text": [
      "Large\n",
      "0_50: 97\n",
      "50_100: 126\n",
      "100_150: 87\n",
      "150_200: 49\n",
      "200_10000: 142\n",
      "\n",
      "Mid\n",
      "0_50: 151\n",
      "50_100: 126\n",
      "100_150: 54\n",
      "150_200: 25\n",
      "200_10000: 44\n"
     ]
    }
   ],
   "source": [
    "print(\"Large\")\n",
    "for range in ranges:\n",
    "    print(f\"{range}: {len(large[range])}\")\n",
    "\n",
    "print()\n",
    "\n",
    "print(\"Mid\")\n",
    "for range in ranges:\n",
    "    print(f\"{range}: {len(mid[range])}\")"
   ]
  },
  {
   "cell_type": "code",
   "execution_count": 57,
   "metadata": {},
   "outputs": [],
   "source": [
    "today = time.strftime(\"%Y-%m-%d\")"
   ]
  },
  {
   "cell_type": "code",
   "execution_count": 73,
   "metadata": {},
   "outputs": [],
   "source": [
    "delete_data_dir(\"mid\")\n",
    "delete_data_dir(\"large\")"
   ]
  },
  {
   "cell_type": "code",
   "execution_count": 69,
   "metadata": {},
   "outputs": [],
   "source": [
    "# Get only ticker symbols\n",
    "\n",
    "def get_tickers(price_dict: dict[str, Prices], range: str, dir_name: str) -> list[str]:\n",
    "    return [data[0] for data in price_dict[range] if not exists(f\"{dir_name}/{data[0]}/{today}\")]\n",
    "\n",
    "large_tickers: list[str] = get_tickers(large, \"0_50\", \"large_0_50\")\n",
    "mid_tickers: list[str] = get_tickers(mid, \"0_50\", \"mid_0_50\")"
   ]
  },
  {
   "cell_type": "code",
   "execution_count": 64,
   "metadata": {},
   "outputs": [
    {
     "name": "stdout",
     "output_type": "stream",
     "text": [
      "Getting 3 stocks\n",
      "[*********************100%%**********************]  3 of 3 completed\n"
     ]
    }
   ],
   "source": [
    "print(f'Getting {len(large_tickers)} stocks')\n",
    "\n",
    "period = '1y'\n",
    "interval = '1d'\n",
    "\n",
    "large_cap_dfs = download_data(large_tickers, period, interval)\n",
    "mid_cap_dfs = download_data(mid_tickers, period, interval)"
   ]
  },
  {
   "cell_type": "code",
   "execution_count": 65,
   "metadata": {},
   "outputs": [],
   "source": [
    "def dfs_to_disk(dfs: dict[str, DataFrame], tickers: list[str], dir_name: str):\n",
    "    \"\"\"Writes dataframes to disk as csv\"\"\"\n",
    "    for ticker in tickers:\n",
    "        stock_dir = f\"{dir_name}/{ticker}/{today}\"\n",
    "        os.makedirs(stock_dir, exist_ok=True)\n",
    "\n",
    "        dfs[ticker].to_csv(f\"{stock_dir}/stats.csv\")\n",
    "\n",
    "dfs_to_disk(large_cap_dfs, large_tickers, \"large_0_50\")\n",
    "dfs_to_disk(mid_cap_dfs, mid_tickers, \"mid_0_50\")"
   ]
  },
  {
   "cell_type": "code",
   "execution_count": 66,
   "metadata": {},
   "outputs": [],
   "source": [
    "def get_ticker_info(tickers: list[str], dir_name: str):\n",
    "    \"\"\"Gets ticker info from yfinance and recs from yahooquery and writes them to disk\"\"\"\n",
    "    for ticker in tickers:\n",
    "        try: \n",
    "            stock_dir = f\"{dir_name}/{ticker}/{today}\"\n",
    "            os.makedirs(stock_dir, exist_ok=True)\n",
    "\n",
    "            csv_path = f\"{stock_dir}/recs.csv\"\n",
    "            if not exists(csv_path):\n",
    "                recs: DataFrame = yq.Ticker(ticker).recommendation_trend\n",
    "                recs.to_csv(csv_path)\n",
    "            \n",
    "\n",
    "            json_path = f\"{stock_dir}/info.json\"\n",
    "            if not exists(json_path):\n",
    "                info = yf.Ticker(ticker).info\n",
    "\n",
    "                with open(f\"{stock_dir}/info.json\", \"w\") as f:\n",
    "                    f.write(json.dumps(info))\n",
    "            \n",
    "            time.sleep(3)\n",
    "        except Exception as e:\n",
    "            print(f\"Error getting info for {ticker}: {e}\")\n",
    "\n",
    "get_ticker_info(large_tickers, \"large_0_50\")\n",
    "get_ticker_info(mid_tickers, \"mid_0_50\")"
   ]
  }
 ],
 "metadata": {
  "kernelspec": {
   "display_name": "3.12",
   "language": "python",
   "name": "python3"
  },
  "language_info": {
   "codemirror_mode": {
    "name": "ipython",
    "version": 3
   },
   "file_extension": ".py",
   "mimetype": "text/x-python",
   "name": "python",
   "nbconvert_exporter": "python",
   "pygments_lexer": "ipython3",
   "version": "3.12.0"
  }
 },
 "nbformat": 4,
 "nbformat_minor": 2
}
