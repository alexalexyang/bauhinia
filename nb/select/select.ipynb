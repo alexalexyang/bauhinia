{
 "cells": [
  {
   "cell_type": "code",
   "execution_count": 1,
   "metadata": {},
   "outputs": [],
   "source": [
    "# This module helps to select stocks to look at\n",
    "# It writes raw stock data to disk\n",
    "\n",
    "import sys\n",
    "sys.path.append('..')\n",
    "\n",
    "import os\n",
    "from os.path import exists\n",
    "\n",
    "import time\n",
    "from datetime import date, timedelta\n",
    "from glob import glob\n",
    "import json\n",
    "\n",
    "from etl import download_data_by_dates, delete_data_dir\n",
    "\n",
    "import yfinance as yf # type: ignore\n",
    "import yahooquery as yq # type: ignore\n",
    "import pandas as pd\n",
    "from pandas import DataFrame\n"
   ]
  },
  {
   "cell_type": "code",
   "execution_count": 2,
   "metadata": {},
   "outputs": [],
   "source": [
    "type Prices = list[list[str | int]]\n",
    "\n",
    "ranges = [\"0_50\", \"50_100\", \"100_150\", \"150_200\", \"200_10000\"]\n",
    "\n",
    "def split_by_range(price_dict: dict[str, Prices], price_list: Prices):\n",
    "    for range in ranges:\n",
    "        start, end = range.split(\"_\")\n",
    "        price_dict[range] = [data for data in price_list if data[1] > float(start) and data[1] < float(end)]\n",
    "\n",
    "\n",
    "large: dict[str, Prices] = {}\n",
    "mid: dict[str, Prices] = {}\n",
    "\n",
    "for match in glob(f'../prices/*cap*'):\n",
    "    with open(match, \"r\") as f:\n",
    "        if \"large\" in match:\n",
    "            split_by_range(large, json.load(f))\n",
    "        else:\n",
    "            split_by_range(mid, json.load(f))"
   ]
  },
  {
   "cell_type": "code",
   "execution_count": 3,
   "metadata": {},
   "outputs": [
    {
     "name": "stdout",
     "output_type": "stream",
     "text": [
      "Large\n",
      "0_50: 97\n",
      "50_100: 126\n",
      "100_150: 87\n",
      "150_200: 49\n",
      "200_10000: 142\n",
      "\n",
      "Mid\n",
      "0_50: 151\n",
      "50_100: 126\n",
      "100_150: 54\n",
      "150_200: 25\n",
      "200_10000: 44\n"
     ]
    }
   ],
   "source": [
    "print(\"Large\")\n",
    "for range in ranges:\n",
    "    print(f\"{range}: {len(large[range])}\")\n",
    "\n",
    "print()\n",
    "\n",
    "print(\"Mid\")\n",
    "for range in ranges:\n",
    "    print(f\"{range}: {len(mid[range])}\")"
   ]
  },
  {
   "cell_type": "code",
   "execution_count": 46,
   "metadata": {},
   "outputs": [],
   "source": [
    "# delete_data_dir(\"mid\")\n",
    "# delete_data_dir(\"large\")"
   ]
  },
  {
   "cell_type": "code",
   "execution_count": 8,
   "metadata": {},
   "outputs": [],
   "source": [
    "# Get only ticker symbols\n",
    "\n",
    "def get_tickers(price_dict: dict[str, Prices], range: str, dir_name: str) -> list[str]:\n",
    "    # [data[0] for data in price_dict[range] if not exists(f\"{dir_name}/{data[0]}\")]\n",
    "    return [data[0] for data in price_dict[range]]\n",
    "\n",
    "large_0_50: list[str] = get_tickers(large, \"0_50\", \"large_0_50\")\n",
    "mid_0_50: list[str] = get_tickers(mid, \"0_50\", \"mid_0_50\")"
   ]
  },
  {
   "cell_type": "code",
   "execution_count": 14,
   "metadata": {},
   "outputs": [
    {
     "data": {
      "text/plain": [
       "('2024-01-25', '2024-01-25')"
      ]
     },
     "execution_count": 14,
     "metadata": {},
     "output_type": "execute_result"
    }
   ],
   "source": [
    "def get_start_end_dates(dir_name: str) -> tuple[str, str]:\n",
    "    \"\"\"Get start and end days for next rows of stock data\"\"\"\n",
    "    try:\n",
    "        today = date.today()\n",
    "\n",
    "        dir = glob(f'{dir_name}/*')\n",
    "\n",
    "        if len(dir) == 0:\n",
    "            yrAgo = today - timedelta(days=365)\n",
    "            return today.strftime(\"%Y-%m-%d\"), yrAgo.strftime(\"%Y-%m-%d\")\n",
    "\n",
    "        stock_path = f\"{dir[0]}/stats.csv\"\n",
    "        \n",
    "        if exists(stock_path):\n",
    "            df = pd.read_csv(stock_path, parse_dates=['Date'], index_col=['Date'])\n",
    "            \n",
    "            last = df.index.max()\n",
    "            start = last + pd.Timedelta(days=1)\n",
    "            \n",
    "            return start.strftime('%Y-%m-%d'), today.strftime('%Y-%m-%d')\n",
    "        \n",
    "        else:\n",
    "            raise Exception(f\"Stock path does not exist: {stock_path}\")\n",
    "\n",
    "    except Exception as e:\n",
    "        raise Exception(f\"Error getting start and end dates from {dir_name}: {e}\")\n",
    "\n",
    "start, end = get_start_end_dates(\"large_0_50\")\n",
    "# start = \"2023-01-01\"\n",
    "# end = \"2023-12-31\"\n",
    "start, end"
   ]
  },
  {
   "cell_type": "code",
   "execution_count": 12,
   "metadata": {},
   "outputs": [
    {
     "name": "stdout",
     "output_type": "stream",
     "text": [
      "Getting 97 stocks\n",
      "[*********************100%%**********************]  97 of 97 completed\n",
      "[*********************100%%**********************]  151 of 151 completed\n"
     ]
    }
   ],
   "source": [
    "# Get stock data as DataFrames\n",
    "\n",
    "interval = '1d'\n",
    "\n",
    "large_0_50_dfs = download_data_by_dates(large_0_50, start, end, interval)\n",
    "mid_0_50_dfs = download_data_by_dates(mid_0_50, start, end, interval)"
   ]
  },
  {
   "cell_type": "code",
   "execution_count": 13,
   "metadata": {},
   "outputs": [],
   "source": [
    "def dfs_to_disk(dfs: dict[str, DataFrame], tickers: list[str], dir_name: str):\n",
    "    \"\"\"Writes dataframes to disk as csv\"\"\"\n",
    "    for ticker in tickers:\n",
    "        stock_dir = f\"{dir_name}/{ticker}\"\n",
    "        os.makedirs(stock_dir, exist_ok=True)\n",
    "\n",
    "        if exists(f\"{stock_dir}/stats.csv\"):\n",
    "            dfs[ticker].to_csv(f\"{stock_dir}/stats.csv\", mode='a', header=False)\n",
    "        else:\n",
    "            dfs[ticker].to_csv(f\"{stock_dir}/stats.csv\")\n",
    "\n",
    "dfs_to_disk(large_0_50_dfs, large_0_50, \"large_0_50\")\n",
    "dfs_to_disk(mid_0_50_dfs, mid_0_50, \"mid_0_50\")"
   ]
  },
  {
   "cell_type": "code",
   "execution_count": 57,
   "metadata": {},
   "outputs": [
    {
     "name": "stderr",
     "output_type": "stream",
     "text": [
      "/Users/alex.yang/miniconda3/envs/3.12/lib/python3.12/site-packages/yfinance/base.py:2126: FutureWarning: Setting an item of incompatible dtype is deprecated and will raise in a future error of pandas. Value 'NaN' has dtype incompatible with float64, please explicitly cast to a compatible dtype first.\n",
      "  dates.loc[dates[cn] == '-', cn] = \"NaN\"\n",
      "/Users/alex.yang/miniconda3/envs/3.12/lib/python3.12/site-packages/yfinance/base.py:2126: FutureWarning: Setting an item of incompatible dtype is deprecated and will raise in a future error of pandas. Value 'NaN' has dtype incompatible with float64, please explicitly cast to a compatible dtype first.\n",
      "  dates.loc[dates[cn] == '-', cn] = \"NaN\"\n",
      "/Users/alex.yang/miniconda3/envs/3.12/lib/python3.12/site-packages/yfinance/base.py:2126: FutureWarning: Setting an item of incompatible dtype is deprecated and will raise in a future error of pandas. Value 'NaN' has dtype incompatible with float64, please explicitly cast to a compatible dtype first.\n",
      "  dates.loc[dates[cn] == '-', cn] = \"NaN\"\n",
      "/Users/alex.yang/miniconda3/envs/3.12/lib/python3.12/site-packages/yfinance/base.py:2126: FutureWarning: Setting an item of incompatible dtype is deprecated and will raise in a future error of pandas. Value 'NaN' has dtype incompatible with float64, please explicitly cast to a compatible dtype first.\n",
      "  dates.loc[dates[cn] == '-', cn] = \"NaN\"\n",
      "/Users/alex.yang/miniconda3/envs/3.12/lib/python3.12/site-packages/yfinance/base.py:2126: FutureWarning: Setting an item of incompatible dtype is deprecated and will raise in a future error of pandas. Value 'NaN' has dtype incompatible with float64, please explicitly cast to a compatible dtype first.\n",
      "  dates.loc[dates[cn] == '-', cn] = \"NaN\"\n"
     ]
    },
    {
     "name": "stdout",
     "output_type": "stream",
     "text": [
      "Error getting info for FNF: 500 Server Error: Internal Server Error for url: https://query2.finance.yahoo.com/v10/finance/quoteSummary/FNF?modules=financialData%2CquoteType%2CdefaultKeyStatistics%2CassetProfile%2CsummaryDetail&ssl=true&crumb=zqOtFS0oeRi\n"
     ]
    },
    {
     "name": "stderr",
     "output_type": "stream",
     "text": [
      "/Users/alex.yang/miniconda3/envs/3.12/lib/python3.12/site-packages/yfinance/base.py:2126: FutureWarning: Setting an item of incompatible dtype is deprecated and will raise in a future error of pandas. Value 'NaN' has dtype incompatible with float64, please explicitly cast to a compatible dtype first.\n",
      "  dates.loc[dates[cn] == '-', cn] = \"NaN\"\n",
      "/Users/alex.yang/miniconda3/envs/3.12/lib/python3.12/site-packages/yfinance/base.py:2126: FutureWarning: Setting an item of incompatible dtype is deprecated and will raise in a future error of pandas. Value 'NaN' has dtype incompatible with float64, please explicitly cast to a compatible dtype first.\n",
      "  dates.loc[dates[cn] == '-', cn] = \"NaN\"\n",
      "/Users/alex.yang/miniconda3/envs/3.12/lib/python3.12/site-packages/yfinance/base.py:2126: FutureWarning: Setting an item of incompatible dtype is deprecated and will raise in a future error of pandas. Value 'NaN' has dtype incompatible with float64, please explicitly cast to a compatible dtype first.\n",
      "  dates.loc[dates[cn] == '-', cn] = \"NaN\"\n",
      "/Users/alex.yang/miniconda3/envs/3.12/lib/python3.12/site-packages/yfinance/base.py:2126: FutureWarning: Setting an item of incompatible dtype is deprecated and will raise in a future error of pandas. Value 'NaN' has dtype incompatible with float64, please explicitly cast to a compatible dtype first.\n",
      "  dates.loc[dates[cn] == '-', cn] = \"NaN\"\n",
      "/Users/alex.yang/miniconda3/envs/3.12/lib/python3.12/site-packages/yfinance/base.py:2126: FutureWarning: Setting an item of incompatible dtype is deprecated and will raise in a future error of pandas. Value 'NaN' has dtype incompatible with float64, please explicitly cast to a compatible dtype first.\n",
      "  dates.loc[dates[cn] == '-', cn] = \"NaN\"\n"
     ]
    }
   ],
   "source": [
    "def get_ticker_info(tickers: list[str], dir_name: str):\n",
    "    \"\"\"Gets ticker info from yfinance and recs from yahooquery and writes them to disk\"\"\"\n",
    "    for ticker in tickers:\n",
    "        try: \n",
    "            stock_dir = f\"{dir_name}/{ticker}\"\n",
    "            os.makedirs(stock_dir, exist_ok=True)\n",
    "\n",
    "            recs_path = f\"{stock_dir}/recs.csv\"\n",
    "            if not exists(recs_path):\n",
    "                recs: DataFrame = yq.Ticker(ticker).recommendation_trend\n",
    "                recs.to_csv(recs_path)\n",
    "            \n",
    "\n",
    "            ticker_obj = yf.Ticker(ticker)\n",
    "\n",
    "            json_path = f\"{stock_dir}/info.json\"\n",
    "            if not exists(json_path):\n",
    "                with open(json_path, \"w\") as f:\n",
    "                    f.write(json.dumps(ticker_obj.info))\n",
    "            \n",
    "            earnings_dates_path = f\"{stock_dir}/earnings_dates.csv\"\n",
    "            if not exists(earnings_dates_path):\n",
    "                ticker_obj.earnings_dates.to_csv(earnings_dates_path)\n",
    "            \n",
    "            time.sleep(3)\n",
    "        except Exception as e:\n",
    "            err = f\"Error getting info for {ticker}: {e}\"\n",
    "            print(err)\n",
    "            with open(\"log\", \"w\") as f:\n",
    "                    f.writelines(err)\n",
    "\n",
    "# get_ticker_info(large_0_50, \"large_0_50\")\n",
    "get_ticker_info(mid_0_50, \"mid_0_50\")"
   ]
  }
 ],
 "metadata": {
  "kernelspec": {
   "display_name": "3.12",
   "language": "python",
   "name": "python3"
  },
  "language_info": {
   "codemirror_mode": {
    "name": "ipython",
    "version": 3
   },
   "file_extension": ".py",
   "mimetype": "text/x-python",
   "name": "python",
   "nbconvert_exporter": "python",
   "pygments_lexer": "ipython3",
   "version": "3.12.0"
  }
 },
 "nbformat": 4,
 "nbformat_minor": 2
}
