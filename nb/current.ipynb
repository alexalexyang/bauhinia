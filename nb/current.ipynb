{
 "cells": [
  {
   "cell_type": "code",
   "execution_count": 3,
   "metadata": {},
   "outputs": [],
   "source": [
    "import yfinance as yf"
   ]
  },
  {
   "cell_type": "code",
   "execution_count": 4,
   "metadata": {},
   "outputs": [],
   "source": [
    "def sumNested(arr: dict[str, dict[str, float]], key: str) -> float:\n",
    "    return sum(nested[key] for nested in arr.values())"
   ]
  },
  {
   "cell_type": "code",
   "execution_count": 5,
   "metadata": {},
   "outputs": [
    {
     "name": "stdout",
     "output_type": "stream",
     "text": [
      "{'sek': -1899.7799999999997, 'usd': -209.23000000000002}\n"
     ]
    }
   ],
   "source": [
    "capital = {\n",
    "    \"29-aug-2022\": { \"sek\": 2500, \"usd\": 248.56 }, # Might have put in less? So confused from Avanza's UX.\n",
    "    \"25-aug-2023\": { \"sek\": 2500, \"usd\": 248.56 },\n",
    "}\n",
    "\n",
    "portfolio = {\n",
    "    \"AAPL\": { \"sek\": 1501.63, \"usd\": 137.20 },\n",
    "    \"AMZN\": { \"sek\": 999.75, \"usd\": 91.01 },\n",
    "    \"NEE\": { \"sek\": 608.38, \"usd\": 59.68 },\n",
    "    \"ACHR\": {\"sek\": 135.1, \"usd\": 12.5},\n",
    "}\n",
    "\n",
    "\n",
    "remaining = {\n",
    "    \"sek\": sumNested(portfolio, \"sek\")- sumNested(capital, \"sek\"),\n",
    "    \"usd\": sumNested(portfolio, \"usd\") - sumNested(capital, \"usd\")\n",
    "}\n",
    "\n",
    "print(remaining)\n"
   ]
  },
  {
   "cell_type": "code",
   "execution_count": 6,
   "metadata": {},
   "outputs": [
    {
     "name": "stdout",
     "output_type": "stream",
     "text": [
      "AAPL\n",
      "\tBought:\t\t137.2\n",
      "\tPrevious close:\t193.6\n",
      "\tDifference:\t56.4\n",
      "\tReturn:\t\t41.11%\n",
      "\n",
      "AMZN\n",
      "\tBought:\t\t91.01\n",
      "\tPrevious close:\t153.42\n",
      "\tDifference:\t62.41\n",
      "\tReturn:\t\t68.57%\n",
      "\n",
      "NEE\n",
      "\tBought:\t\t59.68\n",
      "\tPrevious close:\t59.75\n",
      "\tDifference:\t0.07\n",
      "\tReturn:\t\t0.12%\n",
      "\n"
     ]
    }
   ],
   "source": [
    "for ticker, price in portfolio.items():\n",
    "    print(ticker)\n",
    "    print(f\"\\tBought:\\t\\t{price[\"usd\"]}\")\n",
    "    \n",
    "    data = yf.Ticker(ticker).info\n",
    "\n",
    "    previousClose: float = data[\"previousClose\"]\n",
    "    \n",
    "    print(f\"\\tPrevious close:\\t{previousClose}\")\n",
    "\n",
    "    diff: float = round(previousClose - price[\"usd\"], 2)\n",
    "    print(f\"\\tDifference:\\t{diff}\")\n",
    "\n",
    "    print(f\"\\tReturn:\\t\\t{round(100 * diff / price[\"usd\"], 2)}%\")\n",
    "\n",
    "    print()"
   ]
  }
 ],
 "metadata": {
  "kernelspec": {
   "display_name": "3.12",
   "language": "python",
   "name": "python3"
  },
  "language_info": {
   "codemirror_mode": {
    "name": "ipython",
    "version": 3
   },
   "file_extension": ".py",
   "mimetype": "text/x-python",
   "name": "python",
   "nbconvert_exporter": "python",
   "pygments_lexer": "ipython3",
   "version": "3.12.0"
  }
 },
 "nbformat": 4,
 "nbformat_minor": 2
}
