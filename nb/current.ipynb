{
 "cells": [
  {
   "cell_type": "code",
   "execution_count": null,
   "metadata": {},
   "outputs": [],
   "source": [
    "import yfinance as yf"
   ]
  },
  {
   "cell_type": "code",
   "execution_count": 42,
   "metadata": {},
   "outputs": [],
   "source": [
    "current: dict[str, dict[str, float]] = {\n",
    "    \"AAPL\": { \"sek\": 1501.63, \"usd\": 150.07 },\n",
    "    \"AMZN\": { \"sek\": 999.74, \"usd\": 99.91 },\n",
    "}\n"
   ]
  },
  {
   "cell_type": "code",
   "execution_count": 47,
   "metadata": {},
   "outputs": [
    {
     "name": "stdout",
     "output_type": "stream",
     "text": [
      "AAPL\n",
      "\tBought:\t\t150.07\n",
      "\tPrevious close:\t194.68\n",
      "\tDifference:\t44.61\n",
      "\tReturn:\t\t29.73%\n",
      "\n",
      "AMZN\n",
      "\tBought:\t\t99.91\n",
      "\tPrevious close:\t153.84\n",
      "\tDifference:\t53.93\n",
      "\tReturn:\t\t53.98%\n",
      "\n"
     ]
    }
   ],
   "source": [
    "for ticker, price in current.items():\n",
    "    print(ticker)\n",
    "    print(f\"\\tBought:\\t\\t{price[\"usd\"]}\")\n",
    "    \n",
    "    data = yf.Ticker(ticker).info\n",
    "    previousClose: float = data[\"previousClose\"]\n",
    "    \n",
    "    print(f\"\\tPrevious close:\\t{previousClose}\")\n",
    "\n",
    "    diff: float = round(previousClose - price[\"usd\"], 2)\n",
    "    print(f\"\\tDifference:\\t{diff}\")\n",
    "\n",
    "    print(f\"\\tReturn:\\t\\t{round(100 * diff / price[\"usd\"], 2)}%\")\n",
    "\n",
    "    print()"
   ]
  },
  {
   "cell_type": "markdown",
   "metadata": {},
   "source": [
    "# KIV\n",
    "\n",
    "FSLR"
   ]
  }
 ],
 "metadata": {
  "kernelspec": {
   "display_name": "3.12",
   "language": "python",
   "name": "python3"
  },
  "language_info": {
   "codemirror_mode": {
    "name": "ipython",
    "version": 3
   },
   "file_extension": ".py",
   "mimetype": "text/x-python",
   "name": "python",
   "nbconvert_exporter": "python",
   "pygments_lexer": "ipython3",
   "version": "3.12.0"
  }
 },
 "nbformat": 4,
 "nbformat_minor": 2
}
