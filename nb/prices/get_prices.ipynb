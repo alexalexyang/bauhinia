{
 "cells": [
  {
   "cell_type": "code",
   "execution_count": 3,
   "metadata": {},
   "outputs": [],
   "source": [
    "# Run this script occasionally to update stock prices\n",
    "\n",
    "import sys\n",
    "sys.path.append('..')\n",
    "\n",
    "import json\n",
    "import math\n",
    "import time\n",
    "\n",
    "import yfinance as yf # type: ignore\n",
    "\n",
    "from tickers import large_cap, mid_cap"
   ]
  },
  {
   "cell_type": "code",
   "execution_count": 2,
   "metadata": {},
   "outputs": [],
   "source": [
    "def get_prices(tickers: list[str], cap_size: str, date: str):\n",
    "    data = yf.download(tickers, period=\"1d\")\n",
    "\n",
    "    stock_prices = [[ticker, data.Close[ticker].values[0]] for ticker in tickers if not math.isnan(data.Close[ticker].values[0])]\n",
    "    print(f\"{cap_size}: {len(stock_prices)}\")\n",
    "\n",
    "    with open(f\"{cap_size}.{date}.json\", \"w\") as f:\n",
    "        f.write(json.dumps(stock_prices))"
   ]
  },
  {
   "cell_type": "code",
   "execution_count": 5,
   "metadata": {},
   "outputs": [
    {
     "data": {
      "text/plain": [
       "'2024-01-24'"
      ]
     },
     "execution_count": 5,
     "metadata": {},
     "output_type": "execute_result"
    }
   ],
   "source": [
    "today = time.strftime(\"%Y-%m-%d\")\n",
    "\n",
    "get_prices(large_cap, \"large-cap\", today)\n",
    "get_prices(mid_cap, \"mid-cap\", today)"
   ]
  }
 ],
 "metadata": {
  "kernelspec": {
   "display_name": "3.12",
   "language": "python",
   "name": "python3"
  },
  "language_info": {
   "codemirror_mode": {
    "name": "ipython",
    "version": 3
   },
   "file_extension": ".py",
   "mimetype": "text/x-python",
   "name": "python",
   "nbconvert_exporter": "python",
   "pygments_lexer": "ipython3",
   "version": "3.12.0"
  }
 },
 "nbformat": 4,
 "nbformat_minor": 2
}
