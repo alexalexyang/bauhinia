{
 "cells": [
  {
   "cell_type": "code",
   "execution_count": 1,
   "metadata": {},
   "outputs": [],
   "source": [
    "import sys\n",
    "sys.path.append('..')\n",
    "\n",
    "from glob import glob\n",
    "\n",
    "from etl import use_existing_data\n"
   ]
  },
  {
   "cell_type": "code",
   "execution_count": 2,
   "metadata": {},
   "outputs": [],
   "source": [
    "def get_tickers_from_dir(dir: str):\n",
    "    return [match.split(\"/\")[-1] for match in glob(f'../select/{dir}*/*')]\n",
    "\n",
    "large = get_tickers_from_dir('large')        \n",
    "mid = get_tickers_from_dir('mid')       "
   ]
  },
  {
   "cell_type": "code",
   "execution_count": 5,
   "metadata": {},
   "outputs": [],
   "source": [
    "large_dfs = use_existing_data(\"../select/large_0_50\", large, \"\")\n",
    "mid_dfs = use_existing_data(\"../select/mid_0_50\", mid, \"\")"
   ]
  }
 ],
 "metadata": {
  "kernelspec": {
   "display_name": "3.12",
   "language": "python",
   "name": "python3"
  },
  "language_info": {
   "codemirror_mode": {
    "name": "ipython",
    "version": 3
   },
   "file_extension": ".py",
   "mimetype": "text/x-python",
   "name": "python",
   "nbconvert_exporter": "python",
   "pygments_lexer": "ipython3",
   "version": "3.12.0"
  }
 },
 "nbformat": 4,
 "nbformat_minor": 2
}
